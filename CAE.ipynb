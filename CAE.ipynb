{
  "nbformat": 4,
  "nbformat_minor": 0,
  "metadata": {
    "colab": {
      "name": "CAE.ipynb",
      "provenance": [],
      "toc_visible": true,
      "authorship_tag": "ABX9TyOAcJUoZUO8H/on9N1eW30O",
      "include_colab_link": true
    },
    "kernelspec": {
      "name": "python3",
      "display_name": "Python 3"
    },
    "language_info": {
      "name": "python"
    },
    "widgets": {
      "application/vnd.jupyter.widget-state+json": {
        "47013ba0ae4b4fecae822f1a38fb06e2": {
          "model_module": "@jupyter-widgets/controls",
          "model_name": "HBoxModel",
          "model_module_version": "1.5.0",
          "state": {
            "_dom_classes": [],
            "_model_module": "@jupyter-widgets/controls",
            "_model_module_version": "1.5.0",
            "_model_name": "HBoxModel",
            "_view_count": null,
            "_view_module": "@jupyter-widgets/controls",
            "_view_module_version": "1.5.0",
            "_view_name": "HBoxView",
            "box_style": "",
            "children": [
              "IPY_MODEL_bcc11840748e4d7ca291078187b5df34",
              "IPY_MODEL_6ebe223e115b4b20acbbab52d53dc615",
              "IPY_MODEL_a38ccb592b90460eb35c35f04a9008a8"
            ],
            "layout": "IPY_MODEL_bb4d4752df604983b1499f0ca51ca8d5"
          }
        },
        "bcc11840748e4d7ca291078187b5df34": {
          "model_module": "@jupyter-widgets/controls",
          "model_name": "HTMLModel",
          "model_module_version": "1.5.0",
          "state": {
            "_dom_classes": [],
            "_model_module": "@jupyter-widgets/controls",
            "_model_module_version": "1.5.0",
            "_model_name": "HTMLModel",
            "_view_count": null,
            "_view_module": "@jupyter-widgets/controls",
            "_view_module_version": "1.5.0",
            "_view_name": "HTMLView",
            "description": "",
            "description_tooltip": null,
            "layout": "IPY_MODEL_1785d359d8f84bb28120fcf3cc082b30",
            "placeholder": "​",
            "style": "IPY_MODEL_3983aac4594148ad8460a8d73dc08917",
            "value": ""
          }
        },
        "6ebe223e115b4b20acbbab52d53dc615": {
          "model_module": "@jupyter-widgets/controls",
          "model_name": "FloatProgressModel",
          "model_module_version": "1.5.0",
          "state": {
            "_dom_classes": [],
            "_model_module": "@jupyter-widgets/controls",
            "_model_module_version": "1.5.0",
            "_model_name": "FloatProgressModel",
            "_view_count": null,
            "_view_module": "@jupyter-widgets/controls",
            "_view_module_version": "1.5.0",
            "_view_name": "ProgressView",
            "bar_style": "success",
            "description": "",
            "description_tooltip": null,
            "layout": "IPY_MODEL_4358332604be44109aee1157f85b7efc",
            "max": 170498071,
            "min": 0,
            "orientation": "horizontal",
            "style": "IPY_MODEL_b23bfbcea9e9459eab7fede991177396",
            "value": 170498071
          }
        },
        "a38ccb592b90460eb35c35f04a9008a8": {
          "model_module": "@jupyter-widgets/controls",
          "model_name": "HTMLModel",
          "model_module_version": "1.5.0",
          "state": {
            "_dom_classes": [],
            "_model_module": "@jupyter-widgets/controls",
            "_model_module_version": "1.5.0",
            "_model_name": "HTMLModel",
            "_view_count": null,
            "_view_module": "@jupyter-widgets/controls",
            "_view_module_version": "1.5.0",
            "_view_name": "HTMLView",
            "description": "",
            "description_tooltip": null,
            "layout": "IPY_MODEL_ea6a87411c0f40578812da2c6390c3dd",
            "placeholder": "​",
            "style": "IPY_MODEL_a7d09bd6c3b140c8afc14dce2dc3df8b",
            "value": " 170499072/? [00:01&lt;00:00, 96576649.70it/s]"
          }
        },
        "bb4d4752df604983b1499f0ca51ca8d5": {
          "model_module": "@jupyter-widgets/base",
          "model_name": "LayoutModel",
          "model_module_version": "1.2.0",
          "state": {
            "_model_module": "@jupyter-widgets/base",
            "_model_module_version": "1.2.0",
            "_model_name": "LayoutModel",
            "_view_count": null,
            "_view_module": "@jupyter-widgets/base",
            "_view_module_version": "1.2.0",
            "_view_name": "LayoutView",
            "align_content": null,
            "align_items": null,
            "align_self": null,
            "border": null,
            "bottom": null,
            "display": null,
            "flex": null,
            "flex_flow": null,
            "grid_area": null,
            "grid_auto_columns": null,
            "grid_auto_flow": null,
            "grid_auto_rows": null,
            "grid_column": null,
            "grid_gap": null,
            "grid_row": null,
            "grid_template_areas": null,
            "grid_template_columns": null,
            "grid_template_rows": null,
            "height": null,
            "justify_content": null,
            "justify_items": null,
            "left": null,
            "margin": null,
            "max_height": null,
            "max_width": null,
            "min_height": null,
            "min_width": null,
            "object_fit": null,
            "object_position": null,
            "order": null,
            "overflow": null,
            "overflow_x": null,
            "overflow_y": null,
            "padding": null,
            "right": null,
            "top": null,
            "visibility": null,
            "width": null
          }
        },
        "1785d359d8f84bb28120fcf3cc082b30": {
          "model_module": "@jupyter-widgets/base",
          "model_name": "LayoutModel",
          "model_module_version": "1.2.0",
          "state": {
            "_model_module": "@jupyter-widgets/base",
            "_model_module_version": "1.2.0",
            "_model_name": "LayoutModel",
            "_view_count": null,
            "_view_module": "@jupyter-widgets/base",
            "_view_module_version": "1.2.0",
            "_view_name": "LayoutView",
            "align_content": null,
            "align_items": null,
            "align_self": null,
            "border": null,
            "bottom": null,
            "display": null,
            "flex": null,
            "flex_flow": null,
            "grid_area": null,
            "grid_auto_columns": null,
            "grid_auto_flow": null,
            "grid_auto_rows": null,
            "grid_column": null,
            "grid_gap": null,
            "grid_row": null,
            "grid_template_areas": null,
            "grid_template_columns": null,
            "grid_template_rows": null,
            "height": null,
            "justify_content": null,
            "justify_items": null,
            "left": null,
            "margin": null,
            "max_height": null,
            "max_width": null,
            "min_height": null,
            "min_width": null,
            "object_fit": null,
            "object_position": null,
            "order": null,
            "overflow": null,
            "overflow_x": null,
            "overflow_y": null,
            "padding": null,
            "right": null,
            "top": null,
            "visibility": null,
            "width": null
          }
        },
        "3983aac4594148ad8460a8d73dc08917": {
          "model_module": "@jupyter-widgets/controls",
          "model_name": "DescriptionStyleModel",
          "model_module_version": "1.5.0",
          "state": {
            "_model_module": "@jupyter-widgets/controls",
            "_model_module_version": "1.5.0",
            "_model_name": "DescriptionStyleModel",
            "_view_count": null,
            "_view_module": "@jupyter-widgets/base",
            "_view_module_version": "1.2.0",
            "_view_name": "StyleView",
            "description_width": ""
          }
        },
        "4358332604be44109aee1157f85b7efc": {
          "model_module": "@jupyter-widgets/base",
          "model_name": "LayoutModel",
          "model_module_version": "1.2.0",
          "state": {
            "_model_module": "@jupyter-widgets/base",
            "_model_module_version": "1.2.0",
            "_model_name": "LayoutModel",
            "_view_count": null,
            "_view_module": "@jupyter-widgets/base",
            "_view_module_version": "1.2.0",
            "_view_name": "LayoutView",
            "align_content": null,
            "align_items": null,
            "align_self": null,
            "border": null,
            "bottom": null,
            "display": null,
            "flex": null,
            "flex_flow": null,
            "grid_area": null,
            "grid_auto_columns": null,
            "grid_auto_flow": null,
            "grid_auto_rows": null,
            "grid_column": null,
            "grid_gap": null,
            "grid_row": null,
            "grid_template_areas": null,
            "grid_template_columns": null,
            "grid_template_rows": null,
            "height": null,
            "justify_content": null,
            "justify_items": null,
            "left": null,
            "margin": null,
            "max_height": null,
            "max_width": null,
            "min_height": null,
            "min_width": null,
            "object_fit": null,
            "object_position": null,
            "order": null,
            "overflow": null,
            "overflow_x": null,
            "overflow_y": null,
            "padding": null,
            "right": null,
            "top": null,
            "visibility": null,
            "width": null
          }
        },
        "b23bfbcea9e9459eab7fede991177396": {
          "model_module": "@jupyter-widgets/controls",
          "model_name": "ProgressStyleModel",
          "model_module_version": "1.5.0",
          "state": {
            "_model_module": "@jupyter-widgets/controls",
            "_model_module_version": "1.5.0",
            "_model_name": "ProgressStyleModel",
            "_view_count": null,
            "_view_module": "@jupyter-widgets/base",
            "_view_module_version": "1.2.0",
            "_view_name": "StyleView",
            "bar_color": null,
            "description_width": ""
          }
        },
        "ea6a87411c0f40578812da2c6390c3dd": {
          "model_module": "@jupyter-widgets/base",
          "model_name": "LayoutModel",
          "model_module_version": "1.2.0",
          "state": {
            "_model_module": "@jupyter-widgets/base",
            "_model_module_version": "1.2.0",
            "_model_name": "LayoutModel",
            "_view_count": null,
            "_view_module": "@jupyter-widgets/base",
            "_view_module_version": "1.2.0",
            "_view_name": "LayoutView",
            "align_content": null,
            "align_items": null,
            "align_self": null,
            "border": null,
            "bottom": null,
            "display": null,
            "flex": null,
            "flex_flow": null,
            "grid_area": null,
            "grid_auto_columns": null,
            "grid_auto_flow": null,
            "grid_auto_rows": null,
            "grid_column": null,
            "grid_gap": null,
            "grid_row": null,
            "grid_template_areas": null,
            "grid_template_columns": null,
            "grid_template_rows": null,
            "height": null,
            "justify_content": null,
            "justify_items": null,
            "left": null,
            "margin": null,
            "max_height": null,
            "max_width": null,
            "min_height": null,
            "min_width": null,
            "object_fit": null,
            "object_position": null,
            "order": null,
            "overflow": null,
            "overflow_x": null,
            "overflow_y": null,
            "padding": null,
            "right": null,
            "top": null,
            "visibility": null,
            "width": null
          }
        },
        "a7d09bd6c3b140c8afc14dce2dc3df8b": {
          "model_module": "@jupyter-widgets/controls",
          "model_name": "DescriptionStyleModel",
          "model_module_version": "1.5.0",
          "state": {
            "_model_module": "@jupyter-widgets/controls",
            "_model_module_version": "1.5.0",
            "_model_name": "DescriptionStyleModel",
            "_view_count": null,
            "_view_module": "@jupyter-widgets/base",
            "_view_module_version": "1.2.0",
            "_view_name": "StyleView",
            "description_width": ""
          }
        }
      }
    }
  },
  "cells": [
    {
      "cell_type": "markdown",
      "metadata": {
        "id": "view-in-github",
        "colab_type": "text"
      },
      "source": [
        "<a href=\"https://colab.research.google.com/github/AditiAgrawal95/CAECompressionSWinIRRestoration/blob/main/CAE.ipynb\" target=\"_parent\"><img src=\"https://colab.research.google.com/assets/colab-badge.svg\" alt=\"Open In Colab\"/></a>"
      ]
    },
    {
      "cell_type": "code",
      "execution_count": 12,
      "metadata": {
        "id": "z6XLtftOy-yj"
      },
      "outputs": [],
      "source": [
        "import os "
      ]
    },
    {
      "cell_type": "code",
      "source": [
        "import numpy as np\n",
        "import torch\n",
        "import torch.nn as nn\n",
        "from torch.utils.data import DataLoader\n",
        "from torch.utils.data import sampler\n",
        "from torchvision import datasets, transforms\n",
        "from torchvision.utils import save_image, make_grid\n",
        "import torch.nn.functional as F\n",
        "import matplotlib.pyplot as plt\n",
        "from torch.autograd import Variable\n",
        "\n"
      ],
      "metadata": {
        "id": "5QK8yNFS5zpI"
      },
      "execution_count": 13,
      "outputs": []
    },
    {
      "cell_type": "code",
      "source": [
        "def denorm(x,channels=None, w= None, h=None, resize=False):\n",
        "  x= 0.5 * (x + 1)\n",
        "  x=x.clamp(0,1) #https://www.geeksforgeeks.org/python-pytorch-clamp-method/#:~:text=clamp()%20method%20clamps%20all,and%20return%20a%20resulting%20tensor.&text=inp%3A%20This%20is%20input%20tensor,which%20input%20to%20be%20clamped.\n",
        "  if resize:\n",
        "    if channels is None or w is None or h is None:\n",
        "      print('Number of channels,width,and height nust be provided for resize.')\n",
        "    x=x.view(x.size(0),channels,w,h)\n",
        "  return x\n"
      ],
      "metadata": {
        "id": "YOeCBU0S8FhS"
      },
      "execution_count": 14,
      "outputs": []
    },
    {
      "cell_type": "code",
      "source": [
        "def show(img):\n",
        "  if torch.cuda.is_available():\n",
        "    img = img.cpu()\n",
        "  npimg = img.numpy()\n",
        "  plt.imshow(np.transpose(npimg,(1,2,0)))\n"
      ],
      "metadata": {
        "id": "dAnvD5VuDZZX"
      },
      "execution_count": 15,
      "outputs": []
    },
    {
      "cell_type": "code",
      "source": [
        "## Device Selection\n",
        "GPU = True\n",
        "device_idx = 0\n",
        "if GPU:\n",
        "  device = torch.device(\"cuda:\" + str(device_idx) if torch.cuda.is_available() else \"cpu\")\n",
        "else:\n",
        "  device = torch.device(\"cpu\")\n",
        "print(device)"
      ],
      "metadata": {
        "colab": {
          "base_uri": "https://localhost:8080/"
        },
        "id": "KKKz3JVeDin2",
        "outputId": "c6d5902b-7b42-43a8-a9d1-456a27ded45d"
      },
      "execution_count": 16,
      "outputs": [
        {
          "output_type": "stream",
          "name": "stdout",
          "text": [
            "cpu\n"
          ]
        }
      ]
    },
    {
      "cell_type": "code",
      "source": [
        "#Reproducibility\n",
        "#We set a random seed to endure that your results are reproducible\n",
        "if torch.cuda.is_available():\n",
        "  torch.backends.cudann.deterministic = True\n",
        "torch.manual_seed(0)"
      ],
      "metadata": {
        "colab": {
          "base_uri": "https://localhost:8080/"
        },
        "id": "zl8xIeJ6IAio",
        "outputId": "8a2fe0f5-8d06-4e32-df29-139f095b4860"
      },
      "execution_count": 17,
      "outputs": [
        {
          "output_type": "execute_result",
          "data": {
            "text/plain": [
              "<torch._C.Generator at 0x7f83f0eff0b0>"
            ]
          },
          "metadata": {},
          "execution_count": 17
        }
      ]
    },
    {
      "cell_type": "code",
      "source": [
        "'''def rgb_to_ycbcr(image: torch.Tensor) -> torch.Tensor:\n",
        "    r\"\"\"Convert an RGB image to YCbCr.\n",
        "\n",
        "    .. image:: _static/img/rgb_to_ycbcr.png\n",
        "\n",
        "    Args:\n",
        "        image: RGB Image to be converted to YCbCr with shape :math:`(*, 3, H, W)`.\n",
        "\n",
        "    Returns:\n",
        "        YCbCr version of the image with shape :math:`(*, 3, H, W)`.\n",
        "\n",
        "    Examples:\n",
        "        >>> input = torch.rand(2, 3, 4, 5)\n",
        "        >>> output = rgb_to_ycbcr(input)  # 2x3x4x5\n",
        "    \"\"\"\n",
        "    if not isinstance(image, torch.Tensor):\n",
        "        raise TypeError(f\"Input type is not a torch.Tensor. Got {type(image)}\")\n",
        "\n",
        "    if len(image.shape) < 3 or image.shape[-3] != 3:\n",
        "        raise ValueError(f\"Input size must have a shape of (*, 3, H, W). Got {image.shape}\")\n",
        "\n",
        "    r: torch.Tensor = image[..., 0, :, :]\n",
        "    g: torch.Tensor = image[..., 1, :, :]\n",
        "    b: torch.Tensor = image[..., 2, :, :]\n",
        "\n",
        "    delta: float = 0.5\n",
        "    y: torch.Tensor = 0.299 * r + 0.587 * g + 0.114 * b\n",
        "    cb: torch.Tensor = (b - y) * 0.564 + delta\n",
        "    cr: torch.Tensor = (r - y) * 0.713 + delta\n",
        "    return torch.stack([y, cb, cr], -3)'''"
      ],
      "metadata": {
        "id": "D5fkT4RBfLyp",
        "colab": {
          "base_uri": "https://localhost:8080/",
          "height": 157
        },
        "outputId": "9f3d25f3-8a26-4ab4-b28b-59e1686b0cf8"
      },
      "execution_count": 18,
      "outputs": [
        {
          "output_type": "execute_result",
          "data": {
            "text/plain": [
              "'def rgb_to_ycbcr(image: torch.Tensor) -> torch.Tensor:\\n    r\"\"\"Convert an RGB image to YCbCr.\\n\\n    .. image:: _static/img/rgb_to_ycbcr.png\\n\\n    Args:\\n        image: RGB Image to be converted to YCbCr with shape :math:`(*, 3, H, W)`.\\n\\n    Returns:\\n        YCbCr version of the image with shape :math:`(*, 3, H, W)`.\\n\\n    Examples:\\n        >>> input = torch.rand(2, 3, 4, 5)\\n        >>> output = rgb_to_ycbcr(input)  # 2x3x4x5\\n    \"\"\"\\n    if not isinstance(image, torch.Tensor):\\n        raise TypeError(f\"Input type is not a torch.Tensor. Got {type(image)}\")\\n\\n    if len(image.shape) < 3 or image.shape[-3] != 3:\\n        raise ValueError(f\"Input size must have a shape of (*, 3, H, W). Got {image.shape}\")\\n\\n    r: torch.Tensor = image[..., 0, :, :]\\n    g: torch.Tensor = image[..., 1, :, :]\\n    b: torch.Tensor = image[..., 2, :, :]\\n\\n    delta: float = 0.5\\n    y: torch.Tensor = 0.299 * r + 0.587 * g + 0.114 * b\\n    cb: torch.Tensor = (b - y) * 0.564 + delta\\n    cr: torch.Tensor = (r - y) * 0.713 + delta\\n    return torch.stack([y, cb, cr], -3)'"
            ],
            "application/vnd.google.colaboratory.intrinsic+json": {
              "type": "string"
            }
          },
          "metadata": {},
          "execution_count": 18
        }
      ]
    },
    {
      "cell_type": "code",
      "source": [
        "'''def ycbcr_to_rgb(image: torch.Tensor) -> torch.Tensor:\n",
        "    r\"\"\"Convert an YCbCr image to RGB.\n",
        "\n",
        "    The image data is assumed to be in the range of (0, 1).\n",
        "\n",
        "    Args:\n",
        "        image: YCbCr Image to be converted to RGB with shape :math:`(*, 3, H, W)`.\n",
        "\n",
        "    Returns:\n",
        "        RGB version of the image with shape :math:`(*, 3, H, W)`.\n",
        "\n",
        "    Examples:\n",
        "        >>> input = torch.rand(2, 3, 4, 5)\n",
        "        >>> output = ycbcr_to_rgb(input)  # 2x3x4x5\n",
        "    \"\"\"\n",
        "    if not isinstance(image, torch.Tensor):\n",
        "        raise TypeError(f\"Input type is not a torch.Tensor. Got {type(image)}\")\n",
        "\n",
        "    if len(image.shape) < 3 or image.shape[-3] != 3:\n",
        "        raise ValueError(f\"Input size must have a shape of (*, 3, H, W). Got {image.shape}\")\n",
        "\n",
        "    y: torch.Tensor = image[..., 0, :, :]\n",
        "    cb: torch.Tensor = image[..., 1, :, :]\n",
        "    cr: torch.Tensor = image[..., 2, :, :]\n",
        "\n",
        "    delta: float = 0.5\n",
        "    cb_shifted: torch.Tensor = cb - delta\n",
        "    cr_shifted: torch.Tensor = cr - delta\n",
        "\n",
        "    r: torch.Tensor = y + 1.403 * cr_shifted\n",
        "    g: torch.Tensor = y - 0.714 * cr_shifted - 0.344 * cb_shifted\n",
        "    b: torch.Tensor = y + 1.773 * cb_shifted\n",
        "    return torch.stack([r, g, b], -3)'''"
      ],
      "metadata": {
        "id": "XU3FfJnnSvtg",
        "colab": {
          "base_uri": "https://localhost:8080/",
          "height": 157
        },
        "outputId": "72c3b4b5-27fa-4ed1-d1ba-04eace05fb2d"
      },
      "execution_count": 19,
      "outputs": [
        {
          "output_type": "execute_result",
          "data": {
            "text/plain": [
              "'def ycbcr_to_rgb(image: torch.Tensor) -> torch.Tensor:\\n    r\"\"\"Convert an YCbCr image to RGB.\\n\\n    The image data is assumed to be in the range of (0, 1).\\n\\n    Args:\\n        image: YCbCr Image to be converted to RGB with shape :math:`(*, 3, H, W)`.\\n\\n    Returns:\\n        RGB version of the image with shape :math:`(*, 3, H, W)`.\\n\\n    Examples:\\n        >>> input = torch.rand(2, 3, 4, 5)\\n        >>> output = ycbcr_to_rgb(input)  # 2x3x4x5\\n    \"\"\"\\n    if not isinstance(image, torch.Tensor):\\n        raise TypeError(f\"Input type is not a torch.Tensor. Got {type(image)}\")\\n\\n    if len(image.shape) < 3 or image.shape[-3] != 3:\\n        raise ValueError(f\"Input size must have a shape of (*, 3, H, W). Got {image.shape}\")\\n\\n    y: torch.Tensor = image[..., 0, :, :]\\n    cb: torch.Tensor = image[..., 1, :, :]\\n    cr: torch.Tensor = image[..., 2, :, :]\\n\\n    delta: float = 0.5\\n    cb_shifted: torch.Tensor = cb - delta\\n    cr_shifted: torch.Tensor = cr - delta\\n\\n    r: torch.Tensor = y + 1.403 * cr_shifted\\n    g: torch.Tensor = y - 0.714 * cr_shifted - 0.344 * cb_shifted\\n    b: torch.Tensor = y + 1.773 * cb_shifted\\n    return torch.stack([r, g, b], -3)'"
            ],
            "application/vnd.google.colaboratory.intrinsic+json": {
              "type": "string"
            }
          },
          "metadata": {},
          "execution_count": 19
        }
      ]
    },
    {
      "cell_type": "code",
      "source": [
        "#Data Loading\n",
        "batch_size=128\n",
        "\n",
        "if not os.path.exists('./CW/CAE'):\n",
        "  os.makedirs('./CW/CAE')\n",
        "\n",
        "NUM_TRAIN=49000\n",
        "##ToTensor : Converts a PIL Image or numpy.ndarray (H x W x C) in the range\n",
        "##           [0, 255] to a torch.FloatTensor of shape (C x H x W) in the range [0.0, 1.0]\n",
        "transform = transforms.Compose([transforms.ToTensor(),transforms.Normalize(mean=(0.5,0.5,0.5), std= (0.5,0.5,0.5))])\n",
        "\n",
        "transform_test= transforms.Compose([transforms.ToTensor(),transforms.Normalize(mean=(0.5,0.5,0.5), std= (0.5,0.5,0.5)),])\n",
        "\n",
        "transform_train = transforms.Compose([transforms.RandomCrop(32, padding =4),\n",
        "                                     transforms.RandomHorizontalFlip(),\n",
        "                                     transforms.ToTensor(),\n",
        "                                     transforms.Normalize(mean=(0.5,0.5,0.5),std=(0.5,0.5,0.5)),])\n",
        "\n",
        "data_dir='./datasets'\n",
        "cifar10_train=datasets.CIFAR10(data_dir,train =True,download=True,transform = transform_train)\n",
        "cifar10_val=datasets.CIFAR10(data_dir,train =True,download=True,transform = transform_test)\n",
        "cifar10_test= datasets.CIFAR10(data_dir, train = False,download = True, transform = transform_test)\n",
        "print(\"Shape of CIFAR 10 is: \",type(cifar10_train))\n",
        "print('Image size: ' + str(len(cifar10_train)))\n",
        "\n",
        "loader_train=DataLoader(cifar10_train,batch_size=batch_size,sampler= sampler.SubsetRandomSampler(range(NUM_TRAIN)))\n",
        "loader_val= DataLoader(cifar10_val, batch_size=batch_size,sampler=sampler.SubsetRandomSampler(range(NUM_TRAIN,5000)))\n",
        "loader_test = DataLoader(cifar10_test,batch_size=batch_size)\n",
        "\n",
        "print(\"Shape of loader_train is: \",type(loader_train))\n",
        "print('Image size: ' + str(len(loader_train)))\n",
        "\n",
        "\n",
        "it = iter(loader_test)\n",
        "sample_inputs, _ = next(it)\n",
        "fixed_input = sample_inputs[0:32, :, :, :]\n",
        "save_image = (denorm(fixed_input), './CW/CAE/input_sample.png')\n",
        "\n",
        "print(\"Type of fixed output is: \",type(fixed_input))\n",
        "print(\"Size of fixed_input is: \",fixed_input.size())\n",
        "\n"
      ],
      "metadata": {
        "colab": {
          "base_uri": "https://localhost:8080/",
          "height": 223,
          "referenced_widgets": [
            "47013ba0ae4b4fecae822f1a38fb06e2",
            "bcc11840748e4d7ca291078187b5df34",
            "6ebe223e115b4b20acbbab52d53dc615",
            "a38ccb592b90460eb35c35f04a9008a8",
            "bb4d4752df604983b1499f0ca51ca8d5",
            "1785d359d8f84bb28120fcf3cc082b30",
            "3983aac4594148ad8460a8d73dc08917",
            "4358332604be44109aee1157f85b7efc",
            "b23bfbcea9e9459eab7fede991177396",
            "ea6a87411c0f40578812da2c6390c3dd",
            "a7d09bd6c3b140c8afc14dce2dc3df8b"
          ]
        },
        "id": "9BlDbmoAJavr",
        "outputId": "e35c1a41-edae-4ead-d49f-ed684857104f"
      },
      "execution_count": 22,
      "outputs": [
        {
          "output_type": "stream",
          "name": "stdout",
          "text": [
            "Downloading https://www.cs.toronto.edu/~kriz/cifar-10-python.tar.gz to ./datasets/cifar-10-python.tar.gz\n"
          ]
        },
        {
          "output_type": "display_data",
          "data": {
            "text/plain": [
              "  0%|          | 0/170498071 [00:00<?, ?it/s]"
            ],
            "application/vnd.jupyter.widget-view+json": {
              "version_major": 2,
              "version_minor": 0,
              "model_id": "47013ba0ae4b4fecae822f1a38fb06e2"
            }
          },
          "metadata": {}
        },
        {
          "output_type": "stream",
          "name": "stdout",
          "text": [
            "Extracting ./datasets/cifar-10-python.tar.gz to ./datasets\n",
            "Files already downloaded and verified\n",
            "Files already downloaded and verified\n",
            "Shape of CIFAR 10 is:  <class 'torchvision.datasets.cifar.CIFAR10'>\n",
            "Image size: 50000\n",
            "Shape of loader_train is:  <class 'torch.utils.data.dataloader.DataLoader'>\n",
            "Image size: 383\n",
            "Type of fixed output is:  <class 'torch.Tensor'>\n",
            "Size of fixed_input is:  torch.Size([32, 3, 32, 32])\n"
          ]
        }
      ]
    },
    {
      "cell_type": "code",
      "source": [
        "## Convolution Autoencoder\n",
        "##Hyper Parameter Selection\n",
        "num_epochs = 5\n",
        "learning_rate= 0.0001\n"
      ],
      "metadata": {
        "id": "kq-x_SZKKwE1"
      },
      "execution_count": 23,
      "outputs": []
    },
    {
      "cell_type": "code",
      "source": [
        "## Define Model\n",
        "## Choose a value for latent space dimension and use it in your model\n",
        "hidden_size =256 # 16*4*4\n",
        "\n",
        "def make_conv_bn_relu(in_channels,out_channels,kernel_size=3,stride=1,padding=1):\n",
        "  return [\n",
        "          nn.Conv2d(in_channels,out_channels,kernel_size=kernel_size,stride=stride,padding=padding,bias=False),\n",
        "          nn.BatchNorm2d(out_channels),\n",
        "          nn.PReLU()]\n",
        "def make_transconv_bn_relu(in_channels,out_channels,kernel_size=3,stride=2,padding=0):\n",
        "  return [\n",
        "          nn.ConvTranspose2d(in_channels,out_channels,kernel_size=kernel_size,stride=stride,padding=padding,bias=False),\n",
        "          nn.BatchNorm2d(out_channels),\n",
        "          nn.PReLU()]\n",
        "def make_transconv_tanh_final(in_channels, out_channels, kernel_size=3, stride=2, padding=0):\n",
        "    return [\n",
        "        nn.ConvTranspose2d(in_channels, out_channels, kernel_size=kernel_size,  stride=stride, padding=padding, bias=False),\n",
        "        nn.Tanh()]\n",
        "\n",
        "class CAE(nn.Module):\n",
        "  def __init__(self):\n",
        "    super(CAE,self).__init__()\n",
        "\n",
        "    ## Downsampling part\n",
        "    self.down1 = nn.Sequential(*make_conv_bn_relu(3,64,kernel_size=3,stride =2 ,padding = 1))\n",
        "    self.down2 = nn.Sequential(*make_conv_bn_relu(64,32,kernel_size=3,stride=2, padding = 1))\n",
        "    self.down3 = nn.Sequential(*make_conv_bn_relu(32,16,kernel_size=3,stride = 2, padding=1)) \n",
        "\n",
        "\n",
        "    self.up1=nn.Sequential(*make_transconv_bn_relu(16,32,kernel_size=2,stride=2))  ##1\n",
        "    self.up2=nn.Sequential(*make_transconv_bn_relu(32,64,kernel_size=2,stride=2))  ##2\n",
        "    self.up3=nn.Sequential(*make_transconv_tanh_final(64,3,kernel_size=2,stride=2))  ## 3\n",
        "\n",
        "\n",
        "  def encode(self,x):\n",
        "\n",
        "    x = self.down1(x)\n",
        "    x = self.down2(x)\n",
        "    x = self.down3(x)\n",
        "\n",
        "\n",
        "    ## Here the image is encoded/compressed\n",
        "    return x\n",
        "\n",
        "  def decode(self,z):\n",
        "\n",
        "    z = self.up1(z)\n",
        "    z = self.up2(z)\n",
        "    z = self.up3(z)\n",
        "\n",
        "    return z\n",
        "\n",
        "  def forward(self,x):\n",
        "\n",
        "    z= self.encode(x)\n",
        "    recon = self.decode(z)\n",
        "    return recon\n",
        "\n",
        "\n"
      ],
      "metadata": {
        "id": "dzctO2uLGlU5"
      },
      "execution_count": 26,
      "outputs": []
    },
    {
      "cell_type": "code",
      "source": [
        "## Define Loss Function \n",
        "criterion = nn.MSELoss()\n",
        "\n",
        "def loss_function_CAE(recon_x,x):\n",
        "  recon_loss=criterion(recon_x,x)\n",
        "  return recon_loss\n",
        "\n",
        "\n"
      ],
      "metadata": {
        "id": "XwSxJhckMrZT"
      },
      "execution_count": 27,
      "outputs": []
    },
    {
      "cell_type": "code",
      "source": [
        "## Initialize Model and print number of parameters\n",
        "model = CAE().to(device)\n",
        "params = sum(p.numel() for  p in model.parameters() if p.requires_grad)\n",
        "print(\"total number of parameters is: {}\".format(params))\n",
        "print(model)"
      ],
      "metadata": {
        "colab": {
          "base_uri": "https://localhost:8080/"
        },
        "id": "GQvQywZVM_Yo",
        "outputId": "de1a899d-983f-476e-9822-23e468aa2100"
      },
      "execution_count": 28,
      "outputs": [
        {
          "output_type": "stream",
          "name": "stdout",
          "text": [
            "total number of parameters is: 36197\n",
            "CAE(\n",
            "  (down1): Sequential(\n",
            "    (0): Conv2d(3, 64, kernel_size=(3, 3), stride=(2, 2), padding=(1, 1), bias=False)\n",
            "    (1): BatchNorm2d(64, eps=1e-05, momentum=0.1, affine=True, track_running_stats=True)\n",
            "    (2): PReLU(num_parameters=1)\n",
            "  )\n",
            "  (down2): Sequential(\n",
            "    (0): Conv2d(64, 32, kernel_size=(3, 3), stride=(2, 2), padding=(1, 1), bias=False)\n",
            "    (1): BatchNorm2d(32, eps=1e-05, momentum=0.1, affine=True, track_running_stats=True)\n",
            "    (2): PReLU(num_parameters=1)\n",
            "  )\n",
            "  (down3): Sequential(\n",
            "    (0): Conv2d(32, 16, kernel_size=(3, 3), stride=(2, 2), padding=(1, 1), bias=False)\n",
            "    (1): BatchNorm2d(16, eps=1e-05, momentum=0.1, affine=True, track_running_stats=True)\n",
            "    (2): PReLU(num_parameters=1)\n",
            "  )\n",
            "  (up1): Sequential(\n",
            "    (0): ConvTranspose2d(16, 32, kernel_size=(2, 2), stride=(2, 2), bias=False)\n",
            "    (1): BatchNorm2d(32, eps=1e-05, momentum=0.1, affine=True, track_running_stats=True)\n",
            "    (2): PReLU(num_parameters=1)\n",
            "  )\n",
            "  (up2): Sequential(\n",
            "    (0): ConvTranspose2d(32, 64, kernel_size=(2, 2), stride=(2, 2), bias=False)\n",
            "    (1): BatchNorm2d(64, eps=1e-05, momentum=0.1, affine=True, track_running_stats=True)\n",
            "    (2): PReLU(num_parameters=1)\n",
            "  )\n",
            "  (up3): Sequential(\n",
            "    (0): ConvTranspose2d(64, 3, kernel_size=(2, 2), stride=(2, 2), bias=False)\n",
            "    (1): Tanh()\n",
            "  )\n",
            ")\n"
          ]
        }
      ]
    },
    {
      "cell_type": "code",
      "source": [
        "## Choose aand Initialize Optimizer\n",
        "optimizer=torch.optim.Adam(model.parameters(),lr=learning_rate)"
      ],
      "metadata": {
        "id": "R9PoFBoLOAhb"
      },
      "execution_count": 29,
      "outputs": []
    },
    {
      "cell_type": "code",
      "source": [
        "#Train\n",
        "train_losses = []\n",
        "model.train()\n",
        "for epoch in range(num_epochs):\n",
        "  train_loss = 0\n",
        "  print('Size of loader_train is : ' + str(len(loader_train)))\n",
        "  for batch_idx, data in enumerate(loader_train):\n",
        "    img, _ = data\n",
        "    #print(\"Type of img is: \",type(img))\n",
        "    #img = rgb_to_ycbcr(img1)\n",
        "    #print(\"Type of img after converting to yCrCB is: \",type(img))\n",
        "\n",
        "    img = img.to(device)\n",
        "    optimizer.zero_grad()\n",
        "    # forward\n",
        "    recon_batch = model(img)\n",
        "    ## denorm the image \n",
        "    #recon_batch2=denorm(recon_batch)\n",
        "    #recon_batch3=ycbcr_to_rgb(recon_batch2)\n",
        "\n",
        "    loss = loss_function_CAE(recon_batch, img)\n",
        "\n",
        "    # backward\n",
        "    loss.backward()\n",
        "    train_loss += loss.item()\n",
        "    optimizer.step()\n",
        "\n",
        "  print('epoch [{}/{}],loss :{:.4f}'.format(epoch + 1,num_epochs, train_loss/ len(loader_train)))\n",
        "  recona = model(fixed_input.to(device))\n",
        "  recona = denorm(recona.cpu())\n",
        "  ##save_image(recona, './CW/CAE/reconstructed_epoch.png')#.format(epoch))\n",
        "  train_losses.append(train_loss/ len(loader_train))\n",
        "\n",
        "# Save the model and loss values\n",
        "np.save('./CW/CAE/train_losses.npy', np.array(train_losses))\n",
        "torch.save(model.state_dict(), './CW/CAE/CAE_model2.pth')"
      ],
      "metadata": {
        "colab": {
          "base_uri": "https://localhost:8080/"
        },
        "id": "eO9aZs8hPdKB",
        "outputId": "d212e65f-97f8-451a-bbd3-5a605a449cd3"
      },
      "execution_count": 30,
      "outputs": [
        {
          "output_type": "stream",
          "name": "stdout",
          "text": [
            "Size of loader_train is : 383\n",
            "epoch [1/5],loss :0.1971\n",
            "Size of loader_train is : 383\n",
            "epoch [2/5],loss :0.0617\n",
            "Size of loader_train is : 383\n",
            "epoch [3/5],loss :0.0428\n",
            "Size of loader_train is : 383\n",
            "epoch [4/5],loss :0.0361\n",
            "Size of loader_train is : 383\n",
            "epoch [5/5],loss :0.0320\n"
          ]
        }
      ]
    },
    {
      "cell_type": "code",
      "source": [
        " ##Train LOss curve\n",
        "train_losses = np.load('./CW/CAE/train_losses.npy')\n",
        "plt.plot(list(range(0,train_losses.shape[0])), train_losses)\n",
        "plt.title('Train Loss')\n",
        "plt.show()"
      ],
      "metadata": {
        "colab": {
          "base_uri": "https://localhost:8080/",
          "height": 281
        },
        "id": "uB0-4wK4S_Wh",
        "outputId": "35ed7156-85b5-45f7-891b-c1e8d5ca2dd9"
      },
      "execution_count": 31,
      "outputs": [
        {
          "output_type": "display_data",
          "data": {
            "text/plain": [
              "<Figure size 432x288 with 1 Axes>"
            ],
            "image/png": "[encoded data removed]"
          },
          "metadata": {
            "needs_background": "light"
          }
        }
      ]
    },
    {
      "cell_type": "code",
      "source": [
        "## Test set reconstruction error\n",
        "# load the model\n",
        "model.load_state_dict(torch.load('./CW/CAE/CAE_model2.pth'))\n",
        "model.eval()\n",
        "test_loss = 0\n",
        "with torch.no_grad():\n",
        "    for i, data in enumerate(loader_test):\n",
        "        img,_ = data\n",
        "        #img = rgb_to_ycbcr(img1)\n",
        "        img = img.to(device)\n",
        "        recon_batch = model(img)\n",
        "        ## denorm the image \n",
        "        #recon_batch2=denorm(recon_batch)\n",
        "        #recon_batch3=ycbcr_to_rgb(recon_batch2)\n",
        "        #recon_batch = model(img)\n",
        "        test_loss += loss_function_CAE(recon_batch, img)\n",
        "    # loss calculated over the whole test set\n",
        "    test_loss /= len(loader_test.dataset)\n",
        "    print('Test set loss: {:.5f}'.format(test_loss))"
      ],
      "metadata": {
        "colab": {
          "base_uri": "https://localhost:8080/"
        },
        "id": "hL8UNf1d1VZc",
        "outputId": "6a2fd754-6c5b-4ea4-b32b-feebc241c8d5"
      },
      "execution_count": 32,
      "outputs": [
        {
          "output_type": "stream",
          "name": "stdout",
          "text": [
            "Test set loss: 0.00021\n"
          ]
        }
      ]
    },
    {
      "cell_type": "code",
      "source": [
        "## Test set images and reconstructions\n",
        "# load the model\n",
        "import torchvision\n",
        "import torchvision.transforms as T\n",
        "from PIL import Image\n",
        "model.load_state_dict(torch.load('./CW/CAE/CAE_model2.pth'))\n",
        "it = iter(loader_test)\n",
        "sample_inputs, _ = next(it)\n",
        "fixed_input = sample_inputs[21:22, :, :, :]\n",
        "\n",
        "# visualize the original images of the last batch of the test set\n",
        "img = make_grid(denorm(fixed_input), nrow=8, padding=2, normalize=False,\n",
        "                range=None, scale_each=False, pad_value=0)\n",
        "\n",
        "show(img)\n",
        "print(\"The sizze of img is: \", img.shape)"
      ],
      "metadata": {
        "colab": {
          "base_uri": "https://localhost:8080/",
          "height": 338
        },
        "id": "50jgHChw1mMk",
        "outputId": "f5140604-e026-4639-cb5a-b8bc0adbfaa3"
      },
      "execution_count": 79,
      "outputs": [
        {
          "output_type": "stream",
          "name": "stderr",
          "text": [
            "/usr/local/lib/python3.7/dist-packages/torchvision/utils.py:64: UserWarning: The parameter 'range' is deprecated since 0.12 and will be removed in 0.14. Please use 'value_range' instead.\n",
            "  \"The parameter 'range' is deprecated since 0.12 and will be removed in 0.14. \"\n"
          ]
        },
        {
          "output_type": "stream",
          "name": "stdout",
          "text": [
            "The sizze of img is:  torch.Size([3, 32, 32])\n"
          ]
        },
        {
          "output_type": "display_data",
          "data": {
            "text/plain": [
              "<Figure size 432x288 with 1 Axes>"
            ],
            "image/png": "[encoded data removed]"
          },
          "metadata": {
            "needs_background": "light"
          }
        }
      ]
    },
    {
      "cell_type": "code",
      "source": [
        "yyy=denorm(fixed_input[0])\n",
        "print(yyy.shape)\n",
        "transform = T.ToPILImage()\n",
        "new_img = transform(yyy)\n",
        "new_img.show()"
      ],
      "metadata": {
        "colab": {
          "base_uri": "https://localhost:8080/"
        },
        "id": "O6ygUf8MlP9D",
        "outputId": "cb21cbd6-6567-4bf2-aca3-8a9ec72394fa"
      },
      "execution_count": 80,
      "outputs": [
        {
          "output_type": "stream",
          "name": "stdout",
          "text": [
            "torch.Size([3, 32, 32])\n"
          ]
        }
      ]
    },
    {
      "cell_type": "code",
      "source": [
        "from torchvision.utils import save_image\n",
        "t= yyy[0].numpy()\n",
        "plt.imshow(t)\n",
        "save_image(img,'img6.png')"
      ],
      "metadata": {
        "colab": {
          "base_uri": "https://localhost:8080/",
          "height": 266
        },
        "id": "-bgXVY4XiIjR",
        "outputId": "4b116c92-97e4-4e21-acff-9fa7b77e5402"
      },
      "execution_count": 81,
      "outputs": [
        {
          "output_type": "display_data",
          "data": {
            "text/plain": [
              "<Figure size 432x288 with 1 Axes>"
            ],
            "image/png": "[encoded data removed]"
          },
          "metadata": {
            "needs_background": "light"
          }
        }
      ]
    },
    {
      "cell_type": "code",
      "source": [
        "with torch.no_grad():\n",
        "    # visualize the reconstructed images of the last batch of test set\n",
        "    recon_batch = model.forward(fixed_input.to(device)).cpu()\n",
        "    recon_batch = make_grid(denorm(recon_batch), nrow=8, padding=2, normalize=False,\n",
        "                            range=None, scale_each=False, pad_value=0)\n",
        "    show(recon_batch)"
      ],
      "metadata": {
        "colab": {
          "base_uri": "https://localhost:8080/",
          "height": 321
        },
        "id": "zVcrBMCM2ADM",
        "outputId": "fcdb8313-da1a-4024-efe0-7eaccb51120f"
      },
      "execution_count": 82,
      "outputs": [
        {
          "output_type": "stream",
          "name": "stderr",
          "text": [
            "/usr/local/lib/python3.7/dist-packages/torchvision/utils.py:64: UserWarning: The parameter 'range' is deprecated since 0.12 and will be removed in 0.14. Please use 'value_range' instead.\n",
            "  \"The parameter 'range' is deprecated since 0.12 and will be removed in 0.14. \"\n"
          ]
        },
        {
          "output_type": "display_data",
          "data": {
            "text/plain": [
              "<Figure size 432x288 with 1 Axes>"
            ],
            "image/png": "[encoded data removed]"
          },
          "metadata": {
            "needs_background": "light"
          }
        }
      ]
    },
    {
      "cell_type": "code",
      "source": [
        "\n",
        "save_image(recon_batch,'recon6.png')"
      ],
      "metadata": {
        "id": "VJFSz_iuk1Ut"
      },
      "execution_count": 83,
      "outputs": []
    },
    {
      "cell_type": "code",
      "source": [
        "import math\n",
        "def calculate_psnr(img1, img2):\n",
        "  img1 = img1.numpy().astype(np.float64)\n",
        "  img2 = img2.numpy().astype(np.float64)\n",
        "  mse = np.mean((img1 - img2)**2)\n",
        "  if mse == 0:\n",
        "    return float('inf')\n",
        "  return 20 * math.log10(255.0 / math.sqrt(mse))"
      ],
      "metadata": {
        "id": "CjTdDM132Hya"
      },
      "execution_count": null,
      "outputs": []
    },
    {
      "cell_type": "code",
      "source": [
        "type(recon_batch)"
      ],
      "metadata": {
        "colab": {
          "base_uri": "https://localhost:8080/"
        },
        "id": "5ZgK6a0Gp0RK",
        "outputId": "49c0429d-f587-4074-a3b9-1f6fed770fa1"
      },
      "execution_count": null,
      "outputs": [
        {
          "output_type": "execute_result",
          "data": {
            "text/plain": [
              "torch.Tensor"
            ]
          },
          "metadata": {},
          "execution_count": 55
        }
      ]
    },
    {
      "cell_type": "code",
      "source": [
        "recon_batch.shape[1]"
      ],
      "metadata": {
        "colab": {
          "base_uri": "https://localhost:8080/"
        },
        "id": "LdNVovnIqVep",
        "outputId": "2d557479-23b5-48b8-f4c8-900ee8848c9a"
      },
      "execution_count": null,
      "outputs": [
        {
          "output_type": "execute_result",
          "data": {
            "text/plain": [
              "32"
            ]
          },
          "metadata": {},
          "execution_count": 56
        }
      ]
    },
    {
      "cell_type": "code",
      "source": [
        "show(img)"
      ],
      "metadata": {
        "colab": {
          "base_uri": "https://localhost:8080/",
          "height": 266
        },
        "id": "a_dPT8-erVs0",
        "outputId": "6d6e9562-25c0-468f-8ac8-13a0a8847b38"
      },
      "execution_count": null,
      "outputs": [
        {
          "output_type": "display_data",
          "data": {
            "text/plain": [
              "<Figure size 432x288 with 1 Axes>"
            ],
            "image/png": "[encoded data removed]"
          },
          "metadata": {
            "needs_background": "light"
          }
        }
      ]
    },
    {
      "cell_type": "code",
      "source": [
        "result5=calculate_psnr(img,recon_batch)"
      ],
      "metadata": {
        "id": "rDFULvoFridR"
      },
      "execution_count": null,
      "outputs": []
    },
    {
      "cell_type": "code",
      "source": [
        "##print(result5)   --- 70.9987425569537"
      ],
      "metadata": {
        "colab": {
          "base_uri": "https://localhost:8080/"
        },
        "id": "W_R8MQtGoDTa",
        "outputId": "bd474be9-c777-40f7-ebcc-1ed273a8ff18"
      },
      "execution_count": null,
      "outputs": [
        {
          "output_type": "stream",
          "name": "stdout",
          "text": [
            "70.9987425569537\n"
          ]
        }
      ]
    },
    {
      "cell_type": "code",
      "source": [
        "##print(result4)  ---- 69.24729347565386"
      ],
      "metadata": {
        "colab": {
          "base_uri": "https://localhost:8080/"
        },
        "id": "5qWAFZYQnuWq",
        "outputId": "1f6aaac0-079c-4d96-b212-1d5665d2c7ec"
      },
      "execution_count": null,
      "outputs": [
        {
          "output_type": "stream",
          "name": "stdout",
          "text": [
            "69.24729347565386\n"
          ]
        }
      ]
    },
    {
      "cell_type": "code",
      "source": [
        "##print(result2)  ---- 72.0766678288864"
      ],
      "metadata": {
        "colab": {
          "base_uri": "https://localhost:8080/"
        },
        "id": "ASpP41Z9ngvF",
        "outputId": "ddad4347-eff5-47a9-e142-2a3a9c8e9f68"
      },
      "execution_count": null,
      "outputs": [
        {
          "output_type": "stream",
          "name": "stdout",
          "text": [
            "72.0766678288864\n"
          ]
        }
      ]
    },
    {
      "cell_type": "code",
      "source": [
        "##print(result3) ---- 71.06848423751096"
      ],
      "metadata": {
        "colab": {
          "base_uri": "https://localhost:8080/"
        },
        "id": "qDlVKsR9nR_8",
        "outputId": "32029a72-5128-4af3-d644-d651435325b2"
      },
      "execution_count": null,
      "outputs": [
        {
          "output_type": "stream",
          "name": "stdout",
          "text": [
            "71.06848423751096\n"
          ]
        }
      ]
    },
    {
      "cell_type": "code",
      "source": [
        "##print(result) ---- 68.80298894094759"
      ],
      "metadata": {
        "colab": {
          "base_uri": "https://localhost:8080/"
        },
        "id": "cKqgYFAMrkz0",
        "outputId": "952276eb-5b72-4c61-e56a-d9677faf5aed"
      },
      "execution_count": null,
      "outputs": [
        {
          "output_type": "stream",
          "name": "stdout",
          "text": [
            "68.80298894094759\n"
          ]
        }
      ]
    },
    {
      "cell_type": "code",
      "source": [
        "from skimage.metrics import structural_similarity as ssim\n",
        "import cv2"
      ],
      "metadata": {
        "id": "oSPEfosYsN0L"
      },
      "execution_count": 41,
      "outputs": []
    },
    {
      "cell_type": "code",
      "source": [
        "# Import images\n",
        "image1 = cv2.imread('img1.png')\n",
        "image2 = cv2.imread('recon1.png')"
      ],
      "metadata": {
        "id": "wivH6w-h_o6m"
      },
      "execution_count": 42,
      "outputs": []
    },
    {
      "cell_type": "code",
      "source": [
        "# Convert the images to grayscale\n",
        "gray1 = cv2.cvtColor(image1, cv2.COLOR_BGR2GRAY)\n",
        "gray2 = cv2.cvtColor(image2, cv2.COLOR_BGR2GRAY)"
      ],
      "metadata": {
        "id": "N29rVNDdcL5T"
      },
      "execution_count": 43,
      "outputs": []
    },
    {
      "cell_type": "code",
      "source": [
        "s = ssim(gray1, gray2 )"
      ],
      "metadata": {
        "id": "aPolBjHJcoIf"
      },
      "execution_count": 44,
      "outputs": []
    },
    {
      "cell_type": "code",
      "source": [
        "## print(s)  --- 0.7678400774761748  ##img 5"
      ],
      "metadata": {
        "colab": {
          "base_uri": "https://localhost:8080/"
        },
        "id": "5Lge62rfBdQx",
        "outputId": "6ca3c7c8-8848-4f77-f9b5-073fd9036daa"
      },
      "execution_count": null,
      "outputs": [
        {
          "output_type": "stream",
          "name": "stdout",
          "text": [
            "0.7678400774761748\n"
          ]
        }
      ]
    },
    {
      "cell_type": "code",
      "source": [
        "## print(s) --- 0.7678400774761748 ## img 4"
      ],
      "metadata": {
        "colab": {
          "base_uri": "https://localhost:8080/"
        },
        "id": "BgXbH2FgBWvY",
        "outputId": "8a84ca5c-0c30-4839-e82c-edba9bf9848c"
      },
      "execution_count": null,
      "outputs": [
        {
          "output_type": "stream",
          "name": "stdout",
          "text": [
            "0.6912463978940243\n"
          ]
        }
      ]
    },
    {
      "cell_type": "code",
      "source": [
        "## print(s) --- 0.8068936954138121  ## img3"
      ],
      "metadata": {
        "colab": {
          "base_uri": "https://localhost:8080/"
        },
        "id": "3ML4i4ocA93h",
        "outputId": "bd825c14-c601-4ac1-9781-1b87aad13d7e"
      },
      "execution_count": null,
      "outputs": [
        {
          "output_type": "stream",
          "name": "stdout",
          "text": [
            "0.8068936954138121\n"
          ]
        }
      ]
    },
    {
      "cell_type": "code",
      "source": [
        "## print(s) --- 0.8404630172197501 ##img2"
      ],
      "metadata": {
        "colab": {
          "base_uri": "https://localhost:8080/"
        },
        "id": "JnClxUz-A6og",
        "outputId": "4d863e74-4f0e-4d2d-e772-fc3852f367c6"
      },
      "execution_count": null,
      "outputs": [
        {
          "output_type": "stream",
          "name": "stdout",
          "text": [
            "0.8404630172197501\n"
          ]
        }
      ]
    },
    {
      "cell_type": "code",
      "source": [
        "##print(s) ## --- 0.7324647203460863 ##img1 "
      ],
      "metadata": {
        "colab": {
          "base_uri": "https://localhost:8080/"
        },
        "id": "hDtd4wS_fYKR",
        "outputId": "e761c5ed-7ee5-452a-cd80-02a9bd061533"
      },
      "execution_count": 45,
      "outputs": [
        {
          "output_type": "stream",
          "name": "stdout",
          "text": [
            "0.7324647203460863\n"
          ]
        }
      ]
    },
    {
      "cell_type": "code",
      "source": [
        ""
      ],
      "metadata": {
        "id": "iNjqvOIFAuVP"
      },
      "execution_count": null,
      "outputs": []
    }
  ]
}